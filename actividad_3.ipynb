{
 "cells": [
  {
   "cell_type": "markdown",
   "id": "904e3d50",
   "metadata": {},
   "source": [
    "## Imports"
   ]
  },
  {
   "cell_type": "code",
   "execution_count": 6,
   "id": "b7a96ab5",
   "metadata": {},
   "outputs": [],
   "source": [
    "\n",
    "import numpy as np\n",
    "import wfdb\n",
    "from scipy.signal import butter, filtfilt, find_peaks\n",
    "import os"
   ]
  },
  {
   "cell_type": "markdown",
   "id": "ce736470",
   "metadata": {},
   "source": [
    "## Desarrollo"
   ]
  },
  {
   "cell_type": "markdown",
   "id": "941a136e",
   "metadata": {},
   "source": [
    "### Funciones necesarias"
   ]
  },
  {
   "cell_type": "code",
   "execution_count": null,
   "id": "93a33380",
   "metadata": {},
   "outputs": [],
   "source": [
    "def bandpass_filter(data, lowcut, highcut, fs, order=4):\n",
    "    nyq = 0.5 * fs\n",
    "    low = lowcut / nyq\n",
    "    high = highcut / nyq\n",
    "    b, a = butter(order, [low, high], btype='band')\n",
    "    return filtfilt(b, a, data)"
   ]
  },
  {
   "cell_type": "markdown",
   "id": "449a4d92",
   "metadata": {},
   "source": [
    "### Lectura de 1 registro"
   ]
  },
  {
   "cell_type": "code",
   "execution_count": null,
   "id": "b1563dba",
   "metadata": {},
   "outputs": [],
   "source": [
    "record = wfdb.rdrecord('e0103', directory='/datos/EDB')\n",
    "\n",
    "fs = record.fs\n",
    "signal = record.p_signal[:,0]\n",
    "\n",
    "# Procesar ECG\n",
    "filtered_ecg = bandpass_filter(signal, 0.5, 40, fs)"
   ]
  },
  {
   "cell_type": "markdown",
   "id": "75dcca32",
   "metadata": {},
   "source": [
    "### Detección picos R"
   ]
  },
  {
   "cell_type": "code",
   "execution_count": null,
   "id": "a37c9f2d",
   "metadata": {},
   "outputs": [],
   "source": [
    "distance = int(0.4 * fs)\n",
    "peaks, _ = find_peaks(filtered_ecg, distance=distance, height=filtered_ecg.std())"
   ]
  },
  {
   "cell_type": "markdown",
   "id": "31c63572",
   "metadata": {},
   "source": [
    "### Intervalos RR"
   ]
  },
  {
   "cell_type": "code",
   "execution_count": null,
   "id": "dc926b3c",
   "metadata": {},
   "outputs": [],
   "source": [
    "rr_intervals = np.diff(peaks) / fs # segundos\n",
    "\n",
    "# Para guardar los RR de todos los archivos\n",
    "\n",
    "all_rr = []\n",
    "base_path = '/datos/EDB'\n",
    "\n",
    "for n in range(1, 91):\n",
    "    rec_id = f'e{100 + n:04d}'  # e0101 hasta e0190\n",
    "    rec_id = f'e{n:04d}'\n",
    "\n",
    "    hea_path = os.path.join(base_path, rec_id + '.hea')\n",
    "    dat_path = os.path.join(base_path, rec_id + '.dat')\n",
    "\n",
    "    if not (os.path.exists(hea_path) and os.path.exists(dat_path)):\n",
    "        print(f'Saltando {rec_id} (no encontrado)')\n",
    "        continue\n",
    "\n",
    "    try:\n",
    "        record = wfdb.rdrecord(rec_id, directory=base_path)\n",
    "        signal = record.p_signal[:, 0]\n",
    "        fs = record.fs\n",
    "\n",
    "        ecg = bandpass_filter(signal, 0.5, 40, fs)\n",
    "        peaks, _ = find_peaks(ecg, distance=int(0.4 * fs), height=np.std(ecg))\n",
    "        rr = np.diff(peaks) / fs\n",
    "\n",
    "        if len(rr) > 50:\n",
    "            all_rr.append(rr)\n",
    "        else:\n",
    "            all_rr.append(None)\n",
    "    except Exception as e:\n",
    "        print(f'Error con {rec_id}: {e}')\n",
    "        all_rr.append(None)\n"
   ]
  },
  {
   "cell_type": "markdown",
   "id": "07726052",
   "metadata": {},
   "source": [
    "### Aplicar estimador de Hurst"
   ]
  },
  {
   "cell_type": "code",
   "execution_count": null,
   "id": "47ca2455",
   "metadata": {},
   "outputs": [],
   "source": [
    "# Código aquí :v"
   ]
  },
  {
   "cell_type": "markdown",
   "id": "4ff78573",
   "metadata": {},
   "source": [
    "# Actividad 1"
   ]
  },
  {
   "cell_type": "markdown",
   "id": "a1392f45",
   "metadata": {},
   "source": [
    "## Prueba de sesgo"
   ]
  },
  {
   "cell_type": "markdown",
   "id": "23765ad0",
   "metadata": {},
   "source": [
    "## Prueba de robustez"
   ]
  },
  {
   "cell_type": "markdown",
   "id": "6249eb5c",
   "metadata": {},
   "source": [
    "## Prueba de sesgo"
   ]
  },
  {
   "cell_type": "markdown",
   "id": "9b6b9d35",
   "metadata": {},
   "source": []
  }
 ],
 "metadata": {
  "kernelspec": {
   "display_name": "Python 3 (ipykernel)",
   "language": "python",
   "name": "python3"
  },
  "language_info": {
   "codemirror_mode": {
    "name": "ipython",
    "version": 3
   },
   "file_extension": ".py",
   "mimetype": "text/x-python",
   "name": "python",
   "nbconvert_exporter": "python",
   "pygments_lexer": "ipython3",
   "version": "3.12.4"
  }
 },
 "nbformat": 4,
 "nbformat_minor": 5
}
