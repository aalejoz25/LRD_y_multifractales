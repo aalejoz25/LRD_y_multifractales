{
 "cells": [
  {
   "cell_type": "markdown",
   "id": "904e3d50",
   "metadata": {},
   "source": [
    "## Imports"
   ]
  },
  {
   "cell_type": "code",
   "execution_count": 1,
   "id": "b7a96ab5",
   "metadata": {},
   "outputs": [],
   "source": [
    "import numpy as np"
   ]
  },
  {
   "cell_type": "markdown",
   "id": "ce736470",
   "metadata": {},
   "source": [
    "## Funciones necesarias"
   ]
  },
  {
   "cell_type": "markdown",
   "id": "941a136e",
   "metadata": {},
   "source": [
    "### pdfcdfcontinua"
   ]
  },
  {
   "cell_type": "code",
   "execution_count": 2,
   "id": "93a33380",
   "metadata": {},
   "outputs": [],
   "source": [
    "def pdfcdfcontinua(datos, minimo=None, maximo=None, particiones=None):\n",
    "    \"\"\"\n",
    "    Estima la función de densidad (PDF) y la función de distribución acumulativa (CDF)\n",
    "    de una muestra aleatoria `datos` usando histogramas.\n",
    "    \"\"\"\n",
    "\n",
    "    datos = np.ravel(datos)\n",
    "    total = len(datos)\n",
    "\n",
    "    if minimo is None or maximo is None:\n",
    "        rango = np.max(datos) - np.min(datos)\n",
    "        minimo = np.min(datos) - 0.02 * rango\n",
    "        maximo = np.max(datos) + 0.02 * rango\n",
    "\n",
    "    print(minimo, maximo)\n",
    "\n",
    "    if particiones is None:\n",
    "        particiones = int(np.floor(np.sqrt(total)))\n",
    "\n",
    "    bins = np.linspace(minimo, maximo, particiones + 1)\n",
    "\n",
    "    # Histograma normalizado (densidad=True) para obtener PDF\n",
    "    fr, edges = np.histogram(datos, bins=bins, density=False)\n",
    "    ancho_bin = edges[1] - edges[0]\n",
    "    pdf = fr / (total * ancho_bin)\n",
    "\n",
    "    # CDF como suma acumulativa de las frecuencias normalizadas\n",
    "    cdf = np.cumsum(fr) / total\n",
    "\n",
    "    x = edges[:-1] + ancho_bin / 2  # Coordenadas del centro de cada bin\n",
    "\n",
    "    # Gráficas\n",
    "    fig, axs = plt.subplots(2, 1, figsize=(8, 6))\n",
    "\n",
    "    axs[0].plot(x, pdf, linewidth=2)\n",
    "    axs[0].set_title(\"Estimación de la función de densidad\")\n",
    "    axs[0].set_xlabel(\"$x$\")\n",
    "    axs[0].set_ylabel(\"$f_X(x)$\")\n",
    "    axs[0].grid(True)\n",
    "\n",
    "    axs[1].plot(x, cdf, linewidth=2)\n",
    "    axs[1].set_title(\"Estimación de la Distribución Acumulativa\")\n",
    "    axs[1].set_xlabel(\"$x$\")\n",
    "    axs[1].set_ylabel(\"$F_X(x)$\")\n",
    "    axs[1].grid(True)\n",
    "\n",
    "    plt.tight_layout()\n",
    "    plt.show()"
   ]
  },
  {
   "cell_type": "markdown",
   "id": "4ff78573",
   "metadata": {},
   "source": [
    "# Actividad 1"
   ]
  },
  {
   "cell_type": "markdown",
   "id": "a1392f45",
   "metadata": {},
   "source": [
    "## Prueba de sesgo"
   ]
  },
  {
   "cell_type": "markdown",
   "id": "23765ad0",
   "metadata": {},
   "source": [
    "## Prueba de robustez"
   ]
  },
  {
   "cell_type": "markdown",
   "id": "6249eb5c",
   "metadata": {},
   "source": [
    "## Prueba de sesgo"
   ]
  },
  {
   "cell_type": "markdown",
   "id": "9b6b9d35",
   "metadata": {},
   "source": []
  }
 ],
 "metadata": {
  "kernelspec": {
   "display_name": ".venv",
   "language": "python",
   "name": "python3"
  },
  "language_info": {
   "codemirror_mode": {
    "name": "ipython",
    "version": 3
   },
   "file_extension": ".py",
   "mimetype": "text/x-python",
   "name": "python",
   "nbconvert_exporter": "python",
   "pygments_lexer": "ipython3",
   "version": "3.13.3"
  }
 },
 "nbformat": 4,
 "nbformat_minor": 5
}
